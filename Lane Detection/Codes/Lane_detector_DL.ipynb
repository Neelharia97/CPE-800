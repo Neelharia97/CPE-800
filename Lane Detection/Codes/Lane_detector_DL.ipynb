{
 "cells": [
  {
   "cell_type": "code",
   "execution_count": 13,
   "metadata": {},
   "outputs": [],
   "source": [
    "import numpy as np\n",
    "import cv2\n",
    "from scipy.misc import imresize\n",
    "from moviepy.editor import VideoFileClip\n",
    "from IPython.display import HTML\n",
    "from keras.models import load_model"
   ]
  },
  {
   "cell_type": "code",
   "execution_count": 14,
   "metadata": {},
   "outputs": [],
   "source": [
    "class Lanes():\n",
    "    def __init__(self):\n",
    "        self.recent_fit = []\n",
    "        self.avg_fir = []\n",
    "    "
   ]
  },
  {
   "cell_type": "code",
   "execution_count": 15,
   "metadata": {},
   "outputs": [],
   "source": [
    "def road_lines(image):\n",
    "    small_img = imresize(image,(80,160,3))\n",
    "    small_img = np.array(small_img)\n",
    "    small_img = small_img[None,:,:,:]\n",
    "    \n",
    "    prediction = model.predict(small_img)[0] * 255\n",
    "    \n",
    "    lanes.recent_fit.append(prediction)\n",
    "    if len(lanes.recent_fit)>5:\n",
    "        lanes.recent_fit = lanes.recent_fit[1:]\n",
    "    \n",
    "    lanes.avg_fit = np.mean(np.array([i for i in lanes.recent_fit]),axis = 0)\n",
    "    \n",
    "    blanks = np.zeros_like(lanes.avg_fit).astype(np.uint8)\n",
    "    lane_drawn = np.dstack((blanks,lanes.avg_fit,blanks))\n",
    "    \n",
    "    lane_image = imresize(lane_drawn, (720,1280,3))\n",
    "    \n",
    "    result = cv2.addWeighted(image, 1, lane_image,1,0)\n",
    "    \n",
    "    return result"
   ]
  },
  {
   "cell_type": "code",
   "execution_count": 17,
   "metadata": {},
   "outputs": [
    {
     "name": "stderr",
     "output_type": "stream",
     "text": [
      "c:\\users\\neelh\\appdata\\local\\programs\\python\\python37\\lib\\site-packages\\ipykernel_launcher.py:2: DeprecationWarning:     `imresize` is deprecated!\n",
      "    `imresize` is deprecated in SciPy 1.0.0, and will be removed in 1.3.0.\n",
      "    Use Pillow instead: ``numpy.array(Image.fromarray(arr).resize())``.\n",
      "  \n",
      "c:\\users\\neelh\\appdata\\local\\programs\\python\\python37\\lib\\site-packages\\ipykernel_launcher.py:17: DeprecationWarning:     `imresize` is deprecated!\n",
      "    `imresize` is deprecated in SciPy 1.0.0, and will be removed in 1.3.0.\n",
      "    Use Pillow instead: ``numpy.array(Image.fromarray(arr).resize())``.\n",
      "t:   0%|▏                                                                   | 3/1297 [00:00<00:55, 23.50it/s, now=None]"
     ]
    },
    {
     "name": "stdout",
     "output_type": "stream",
     "text": [
      "Moviepy - Building video proj_reg_vid2.mp4.\n",
      "Moviepy - Writing video proj_reg_vid2.mp4\n",
      "\n"
     ]
    },
    {
     "name": "stderr",
     "output_type": "stream",
     "text": [
      "t: 100%|████████████████████████████████████████████████████████████████▉| 1295/1297 [01:20<00:00, 15.49it/s, now=None]c:\\users\\neelh\\appdata\\local\\programs\\python\\python37\\lib\\site-packages\\moviepy\\video\\io\\ffmpeg_reader.py:130: UserWarning: Warning: in file ./test2.mp4, 2764800 bytes wanted but 0 bytes read,at frame 1295/1298, at time 25.90/25.94 sec. Using the last valid frame instead.\n",
      "  UserWarning)\n",
      "t: 100%|█████████████████████████████████████████████████████████████████| 1297/1297 [01:20<00:00, 15.87it/s, now=None]c:\\users\\neelh\\appdata\\local\\programs\\python\\python37\\lib\\site-packages\\moviepy\\video\\io\\ffmpeg_reader.py:130: UserWarning: Warning: in file ./test2.mp4, 2764800 bytes wanted but 0 bytes read,at frame 1296/1298, at time 25.92/25.94 sec. Using the last valid frame instead.\n",
      "  UserWarning)\n",
      "                                                                                                                       \r"
     ]
    },
    {
     "name": "stdout",
     "output_type": "stream",
     "text": [
      "Moviepy - Done !\n",
      "Moviepy - video ready proj_reg_vid2.mp4\n"
     ]
    }
   ],
   "source": [
    "model = load_model('full_CNN_model.h5')\n",
    "lanes = Lanes()\n",
    "vid_output = 'proj_reg_vid2.mp4'\n",
    "clip1 = VideoFileClip(\"./test2.mp4\")\n",
    "vid_clip = clip1.fl_image(road_lines)\n",
    "vid_clip.write_videofile(vid_output, audio = False)"
   ]
  },
  {
   "cell_type": "code",
   "execution_count": null,
   "metadata": {},
   "outputs": [],
   "source": []
  }
 ],
 "metadata": {
  "kernelspec": {
   "display_name": "Python 3",
   "language": "python",
   "name": "python3"
  },
  "language_info": {
   "codemirror_mode": {
    "name": "ipython",
    "version": 3
   },
   "file_extension": ".py",
   "mimetype": "text/x-python",
   "name": "python",
   "nbconvert_exporter": "python",
   "pygments_lexer": "ipython3",
   "version": "3.7.1"
  }
 },
 "nbformat": 4,
 "nbformat_minor": 4
}
